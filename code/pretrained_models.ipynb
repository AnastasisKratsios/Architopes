{
 "cells": [
  {
   "cell_type": "code",
   "execution_count": 156,
   "metadata": {},
   "outputs": [],
   "source": [
    "import os\n",
    "import pandas as pd\n",
    "import numpy as np\n",
    "import ast\n",
    "from sklearn.pipeline import Pipeline\n",
    "from util import def_model, prepare_data, prepare_columntransformer, mean_absolute_percentage_error\n",
    "from sklearn.metrics import mean_absolute_error, mean_squared_error\n",
    "import pickle\n",
    "result_path = './results/train_eval/'\n",
    "data_path = './data/data/'\n",
    "pretrained_path = './pretrained_models/'"
   ]
  },
  {
   "cell_type": "code",
   "execution_count": 157,
   "metadata": {},
   "outputs": [],
   "source": [
    "def model_builder(h, lr, dim, dp, cl):\n",
    "    model = def_model(h, lr, dim, dp)\n",
    "    ct = prepare_columntransformer(cl)\n",
    "    model = Pipeline([(\"preprocess\", ct), (\"model\", model)])\n",
    "    \n",
    "    return model\n",
    "def get_param(path):\n",
    "    df = pd.read_csv(path_cur, header=None)\n",
    "    params = ','.join(df.iloc[0].values).split(' >>>')[2]\n",
    "    params = '{' + params.split('{')[1]\n",
    "    params = ast.literal_eval(params)\n",
    "    return params"
   ]
  },
  {
   "cell_type": "code",
   "execution_count": 158,
   "metadata": {},
   "outputs": [],
   "source": [
    "def evaluate(data_path, pretrained_path, name, params, pretrained = True):\n",
    "    if name in ['complete', 'complete_dp']:\n",
    "        data_path = os.path.join(data_path, 'housing_complete' + '.csv')\n",
    "    else:\n",
    "        data_path = os.path.join(data_path, name + '.csv')\n",
    "    X_train, y_train, X_test, y_test = prepare_data(data_path, True)\n",
    "    \n",
    "    if pretrained:\n",
    "        model = pickle.load(open(os.path.join(pretrained_path, name + '.pkl'),'rb'))\n",
    "    else:\n",
    "        model = model_builder(params['model__height'],\n",
    "                          params['model__learning_rate'],\n",
    "                          X_train.shape[1],\n",
    "                          params['model__dp'],\n",
    "                          X_train.columns)\n",
    "\n",
    "        model.fit(X = X_train, y = y_train, model__epochs = params['model__epochs'],\n",
    "                  model__batch_size = params['model__batch_size'])\n",
    "        \n",
    "    return y_train, model.predict(X_train), y_test, model.predict(X_test)\n",
    "def evaluate_structure(y, y_hat):\n",
    "        mape = mean_absolute_percentage_error(y_pred=y_hat, y_true=y)\n",
    "        mae = mean_absolute_error(y_hat, y)\n",
    "        mse = mean_squared_error(y_hat, y)\n",
    "        me = np.mean(y_hat - y)\n",
    "        sd = np.std(y_hat - y)\n",
    "\n",
    "        return dict(mae=mae, mape=mape, mse=mse)"
   ]
  },
  {
   "cell_type": "code",
   "execution_count": 161,
   "metadata": {},
   "outputs": [],
   "source": [
    "# name should be one of: complete, complete_dp, bay, inland, oneHocean, nocean\n",
    "name = 'complete'\n",
    "path_cur = os.path.join(result_path, name, name + '.txt')\n",
    "params = get_param(path_cur)\n",
    "y_train, y_train_hat, y_test, y_test_hat = evaluate(data_path, pretrained_path, name, params, True)"
   ]
  },
  {
   "cell_type": "code",
   "execution_count": 160,
   "metadata": {},
   "outputs": [],
   "source": [
    "train_eval = evaluate_structure(y_train, y_train_hat)\n",
    "test_eval = evaluate_structure(y_test, y_test_hat)"
   ]
  }
 ],
 "metadata": {
  "kernelspec": {
   "display_name": "Python 3",
   "language": "python",
   "name": "python3"
  },
  "language_info": {
   "codemirror_mode": {
    "name": "ipython",
    "version": 3
   },
   "file_extension": ".py",
   "mimetype": "text/x-python",
   "name": "python",
   "nbconvert_exporter": "python",
   "pygments_lexer": "ipython3",
   "version": "3.7.6"
  }
 },
 "nbformat": 4,
 "nbformat_minor": 4
}
